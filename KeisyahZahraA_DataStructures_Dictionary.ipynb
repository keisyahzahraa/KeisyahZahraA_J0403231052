{
 "cells": [
  {
   "cell_type": "code",
   "execution_count": null,
   "metadata": {},
   "outputs": [],
   "source": [
    "#Keisyah Zahra Anatasya\n",
    "#J0403231052\n",
    "#B1-Teknologi Rekayasa Perangkat Lunak\n",
    "#keisyahzahraa@gmail.com\n",
    "#Dictionary"
   ]
  },
  {
   "cell_type": "code",
   "execution_count": 1,
   "metadata": {},
   "outputs": [
    {
     "name": "stdout",
     "output_type": "stream",
     "text": [
      "o\n",
      "dict_keys([1, 2, 3, 4, 5])\n",
      "dict_values(['a', 'e', 'i', 'o', 'u'])\n",
      "dict_items([(1, 'a'), (2, 'e'), (3, 'i'), (4, 'o'), (5, 'u')])\n",
      "The value of var1 is: e\n",
      "The value of var2 is: (5, 'u')\n"
     ]
    },
    {
     "data": {
      "text/plain": [
       "{}"
      ]
     },
     "execution_count": 1,
     "metadata": {},
     "output_type": "execute_result"
    }
   ],
   "source": [
    "# Built-in Methods of Dictionaries - Example\n",
    "\n",
    "dict1={1:'a',2:'e',3:'i',4:'o',5:'u'}\n",
    "print(dict1.get(4))\n",
    "\n",
    "print(dict1.keys())\n",
    "\n",
    "print(dict1.values())\n",
    "\n",
    "print(dict1.items())\n",
    "\n",
    "var1=dict1.pop(2)\n",
    "print(\"The value of var1 is:\",var1)\n",
    "\n",
    "var2=dict1.popitem()\n",
    "print(\"The value of var2 is:\",var2)\n",
    "\n",
    "dict1.clear()\n",
    "dict1\n"
   ]
  },
  {
   "cell_type": "code",
   "execution_count": 2,
   "metadata": {},
   "outputs": [
    {
     "name": "stdout",
     "output_type": "stream",
     "text": [
      "dict['Name']:  Zara\n",
      "dict['Age']:  7\n"
     ]
    }
   ],
   "source": [
    "# Accessing Values in Dictionary\n",
    "# To access dictionary elements, you can use the familiar square brackets along with the key to obtain its value.\n",
    "\n",
    "dict = {'Name': 'Zara', 'Age': 7, 'Class': 'First'}\n",
    "print (\"dict['Name']: \", dict['Name'])\n",
    "print (\"dict['Age']: \", dict['Age'])\n"
   ]
  },
  {
   "cell_type": "code",
   "execution_count": 3,
   "metadata": {},
   "outputs": [
    {
     "name": "stdout",
     "output_type": "stream",
     "text": [
      "dict['Age']:  8\n",
      "dict['School']:  DPS School\n"
     ]
    }
   ],
   "source": [
    "# Updating Dictionary\n",
    "# You can update a dictionary by adding a new entry or a key-value pair, modifying an existing entry, or deleting an existing entry.\n",
    "\n",
    "dict = {'Name': 'Zara', 'Age': 7, 'Class': 'First'}\n",
    "dict['Age'] = 8; # update existing entry\n",
    "dict['School'] = \"DPS School\"; # Add new entry\n",
    "\n",
    "print (\"dict['Age']: \", dict['Age'])\n",
    "print (\"dict['School']: \", dict['School'])\n",
    "\n"
   ]
  },
  {
   "cell_type": "code",
   "execution_count": 4,
   "metadata": {},
   "outputs": [
    {
     "name": "stdout",
     "output_type": "stream",
     "text": [
      "dict['Age']:  dict['Age']\n",
      "dict['School']:  dict['School']\n"
     ]
    }
   ],
   "source": [
    "# Delete Dictionary Elements\n",
    "\n",
    "# You can either remove individual dictionary elements or clear the entire contents of a dictionary. \n",
    "# You can also delete entire dictionary using the del statement.\n",
    "\n",
    "dict = {'Name': 'Zara', 'Age': 7, 'Class': 'First'}\n",
    "del dict['Name']; # remove entry with key 'Name'\n",
    "dict.clear();     # remove all entries in dict\n",
    "del dict ;        # delete entire dictionary\t\n",
    "\n",
    "# an exception is raised here because after del dict dictionary does not exist any more :\n",
    "print (\"dict['Age']: \", dict['Age'])\n",
    "print (\"dict['School']: \", dict['School'])\n"
   ]
  },
  {
   "cell_type": "code",
   "execution_count": 6,
   "metadata": {},
   "outputs": [
    {
     "name": "stdout",
     "output_type": "stream",
     "text": [
      "dict['Name']:  kuki\n"
     ]
    }
   ],
   "source": [
    "# Properties of Dictionary Keys\n",
    "\n",
    "# Dictionary values have no restrictions. They can be any arbitrary Python object, either standard objects or user-defined objects. \n",
    "# Dictionary keys must not be duplicated. When duplicate keys encountered during assignment, the last assignment wins.\n",
    "\n",
    "dict = {'Name': 'Zara', 'Age': 7, 'Name': 'kuki'}\n",
    "print (\"dict['Name']: \", dict['Name'])\n"
   ]
  }
 ],
 "metadata": {
  "kernelspec": {
   "display_name": "Python 3",
   "language": "python",
   "name": "python3"
  },
  "language_info": {
   "codemirror_mode": {
    "name": "ipython",
    "version": 3
   },
   "file_extension": ".py",
   "mimetype": "text/x-python",
   "name": "python",
   "nbconvert_exporter": "python",
   "pygments_lexer": "ipython3",
   "version": "3.11.6"
  },
  "orig_nbformat": 4
 },
 "nbformat": 4,
 "nbformat_minor": 2
}
