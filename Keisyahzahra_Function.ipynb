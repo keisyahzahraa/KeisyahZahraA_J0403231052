{
 "cells": [
  {
   "cell_type": "code",
   "execution_count": 1,
   "metadata": {},
   "outputs": [
    {
     "name": "stdout",
     "output_type": "stream",
     "text": [
      "Hello, Alice!\n"
     ]
    }
   ],
   "source": [
    "# Positional arguments:\n",
    "# The order of arguments must  match the function's parameter list.\n",
    "def greet(name, greeting):\n",
    "    print(f\"{greeting}, {name}!\")\n",
    "greet(\"Alice\", \"Hello\") # \"Hello, Alice!\""
   ]
  },
  {
   "cell_type": "code",
   "execution_count": 2,
   "metadata": {},
   "outputs": [
    {
     "name": "stdout",
     "output_type": "stream",
     "text": [
      "Hi, Bob!\n"
     ]
    }
   ],
   "source": [
    "# Keyword arguments:\n",
    "# ● Specify arguments by parameter name, allowing you to pass them out of order.\n",
    "# ● More readable and self-explanatory.\n",
    "def greet(name, greeting):\n",
    "    print(f\"{greeting}, {name}!\")\n",
    "greet(greeting=\"Hi\", name=\"Bob\") # \"Hi, Bob!\""
   ]
  },
  {
   "cell_type": "code",
   "execution_count": 3,
   "metadata": {},
   "outputs": [
    {
     "name": "stdout",
     "output_type": "stream",
     "text": [
      "Hello, Eve!\n"
     ]
    }
   ],
   "source": [
    "# Default arguments:\n",
    "# if an argument isn't provided, the default value is used.\n",
    "\n",
    "def greet(name, greeting=\"Hello\"):\n",
    "    print(f\"{greeting}, {name}!\")\n",
    "greet(\"Eve\") # \"Hello, Eve!\""
   ]
  },
  {
   "cell_type": "code",
   "execution_count": 4,
   "metadata": {},
   "outputs": [
    {
     "name": "stdout",
     "output_type": "stream",
     "text": [
      "1\n",
      "apple\n",
      "True\n"
     ]
    }
   ],
   "source": [
    "# Arguments - Arbitrary - *args\n",
    "# ● Functions can accept a variable number of arguments.\n",
    "# ● *args allows you to pass a variable number of positional arguments as a tuple.\n",
    "\n",
    "def print_args(*args):\n",
    "    for arg in args:\n",
    "        print(arg)\n",
    "print_args(1, \"apple\", True)\n"
   ]
  },
  {
   "cell_type": "code",
   "execution_count": 5,
   "metadata": {},
   "outputs": [
    {
     "name": "stdout",
     "output_type": "stream",
     "text": [
      "name: Alice\n",
      "age: 30\n"
     ]
    }
   ],
   "source": [
    "# Arguments - Arbitrary - *kwargs\n",
    "# ● Functions can accept a variable number of arguments.\n",
    "# ● **kwargs allows you to  pass a variable number of keyword arguments  as a dictionary.\n",
    "\n",
    "def print_kwargs(**kwargs):\n",
    "    for key, value in kwargs.items():\n",
    "        print(f\"{key}: {value}\")\n",
    "print_kwargs(name=\"Alice\", age=30)"
   ]
  },
  {
   "cell_type": "code",
   "execution_count": 6,
   "metadata": {},
   "outputs": [
    {
     "name": "stdout",
     "output_type": "stream",
     "text": [
      "1\n",
      "2\n",
      "3\n",
      "4\n",
      "name: Bob\n",
      "age: 25\n"
     ]
    }
   ],
   "source": [
    "# Arguments - Passing Lists/Dictionaries/etc.\n",
    "# We can pass lists, dictionaries, or other data structures as arguments to functions.\n",
    "\n",
    "def print_list(numbers):\n",
    "    for num in numbers:\n",
    "        print(num)\n",
    "print_list([1, 2, 3, 4]) # 1\\n2\\n3\\n4\n",
    "def print_dict(my_dict):\n",
    "    for key, value in my_dict.items():\n",
    "        print(f\"{key}: {value}\")\n",
    "print_dict({\"name\": \"Bob\", \"age\": 25})"
   ]
  },
  {
   "cell_type": "code",
   "execution_count": 7,
   "metadata": {},
   "outputs": [
    {
     "name": "stdout",
     "output_type": "stream",
     "text": [
      "a: 1\n",
      "b: (2, 3)\n",
      "c: 6\n",
      "d: {'x': 4, 'y': 5}\n",
      "a: 1\n",
      "b: (2, 3)\n",
      "c: 7\n",
      "d: {'x': 4, 'y': 5}\n"
     ]
    }
   ],
   "source": [
    "# Different argument combinations\n",
    "# We can pass different argument combinations, including positional, keyword, default, *args, and **kwargs arguments.\n",
    "\n",
    "def f(a, *b, c=6, **d): # compare it with def f(a, b=6, *c, **d)\n",
    "    print(f\"a: {a}\")\n",
    "    print(f\"b: {b}\")\n",
    "    print(f\"c: {c}\")\n",
    "    print(f\"d: {d}\")\n",
    "f(1, 2, 3, x=4, y=5) # Default used\n",
    "f(1, 2, 3, c=7, x=4, y=5)"
   ]
  },
  {
   "cell_type": "code",
   "execution_count": 8,
   "metadata": {},
   "outputs": [
    {
     "name": "stdout",
     "output_type": "stream",
     "text": [
      "The sum is: 8\n"
     ]
    }
   ],
   "source": [
    "# Return Statements - Examples\n",
    "\n",
    "def add_numbers(a, b):\n",
    "\n",
    "    result = a + b\n",
    "    return result\n",
    "# Call the function with a return value\n",
    "sum_result = add_numbers(5, 3)\n",
    "print(f\"The sum is: {sum_result}\")"
   ]
  },
  {
   "cell_type": "code",
   "execution_count": 9,
   "metadata": {},
   "outputs": [
    {
     "name": "stdout",
     "output_type": "stream",
     "text": [
      "The sum is: 8\n"
     ]
    }
   ],
   "source": [
    "def add_numbers(a, b):\n",
    "# \"\"\"This function adds two numbers and\n",
    "# returns the result.\"\"\"\n",
    "    result = a + b\n",
    "    return result\n",
    "# Call the function with a return value\n",
    "sum_result = add_numbers(5, 3)\n",
    "print(f\"The sum is: {sum_result}\")"
   ]
  },
  {
   "cell_type": "code",
   "execution_count": 12,
   "metadata": {},
   "outputs": [
    {
     "name": "stdout",
     "output_type": "stream",
     "text": [
      "Hello, Python!\n"
     ]
    }
   ],
   "source": [
    "# It is executed at runtime\n",
    "# It means that the creation of a function occurs when the program is running, not during the parsing or compilation.\n",
    "\n",
    "if 'a' == 'a':\n",
    "    def greet():\n",
    "        return \"Hello, World!\"\n",
    "else:\n",
    "    def greet():\n",
    "        return \"Hi there!\"\n",
    "    def say_hello():\n",
    "        print(\"Hello, World!\")\n",
    "        greeting = say_hello() # Assigning the function to a different name\n",
    "        greeting() # Calls the function     \n",
    "def say_hello():\n",
    "        print(\"Hello, Python!\")\n",
    "say_hello()"
   ]
  },
  {
   "cell_type": "code",
   "execution_count": 15,
   "metadata": {},
   "outputs": [],
   "source": [
    "# It is executed at runtime\n",
    "# def statements are not  evaluated until they are reached and run, and the code inside defs is not evaluated until the functions are later called.\n",
    "\n",
    "def divide_by_zero(a):\n",
    "    \n",
    "    return a * 2 / ( a - a ) # this is a bug\n",
    "    print(\"After function creation\")\n",
    "# it’s not error until executed:\n",
    "\n",
    "    result = divide_by_zero(5) # comment this and see the differences\n",
    "    print(\"After function is called/executed\")"
   ]
  },
  {
   "cell_type": "code",
   "execution_count": 16,
   "metadata": {},
   "outputs": [
    {
     "name": "stdout",
     "output_type": "stream",
     "text": [
      "Hello, Alice!\n"
     ]
    }
   ],
   "source": [
    "# It is first class object\n",
    "# which means we can treat function like any other object, such as assigning them to variables, passing them as arguments to other functions, and returning them from other functions.\n",
    "def greet(name):\n",
    "    return f\"Hello, {name}!\"\n",
    "# Assign the function to a variable\n",
    "my_function = greet\n",
    "# Call the function using the variable\n",
    "result = my_function(\"Alice\")\n",
    "print(result) # Output: Hello, Alice!"
   ]
  },
  {
   "cell_type": "code",
   "execution_count": 17,
   "metadata": {},
   "outputs": [
    {
     "name": "stdout",
     "output_type": "stream",
     "text": [
      "25\n"
     ]
    }
   ],
   "source": [
    "# It is first class object - another examples\n",
    "# Passing a function as an argument to another function\n",
    "def apply(func, x):\n",
    "    return func(x)\n",
    "def square(x):\n",
    "    return x * x\n",
    "result = apply(square, 5)\n",
    "print(result) # Output: 25"
   ]
  },
  {
   "cell_type": "code",
   "execution_count": 19,
   "metadata": {},
   "outputs": [
    {
     "name": "stdout",
     "output_type": "stream",
     "text": [
      "10\n",
      "15\n"
     ]
    }
   ],
   "source": [
    "# It is first class object - another examples\n",
    "# Returning a function from another function\n",
    "def get_multiplier(factor):\n",
    "    def multiplier(x):\n",
    "        return x * factor\n",
    "    return multiplier\n",
    "double = get_multiplier(2)\n",
    "triple = get_multiplier(3)\n",
    "print(double(5)) # Output: 10\n",
    "print(triple(5)) # Output: 15"
   ]
  },
  {
   "cell_type": "code",
   "execution_count": 21,
   "metadata": {},
   "outputs": [
    {
     "name": "stdout",
     "output_type": "stream",
     "text": [
      "13\n"
     ]
    }
   ],
   "source": [
    "# Scope - Examples\n",
    "def my_function():\n",
    "    x = 10 # x is in the local scope\n",
    "    print(x)\n",
    "def outer_function():\n",
    "    y = 20 # y is in the enclosing scope\n",
    "def inner_function():\n",
    "    print() # inner_function can access y from the enclosing scope\n",
    "z = 30 # z is in the global scope\n",
    "def another_function():\n",
    "    print(z) # another_function can access z from the global scope\n",
    "print(len(\"Hello, World!\")) # len is a built-in function"
   ]
  },
  {
   "cell_type": "code",
   "execution_count": 22,
   "metadata": {},
   "outputs": [
    {
     "name": "stdout",
     "output_type": "stream",
     "text": [
      "20\n"
     ]
    }
   ],
   "source": [
    "# Scope - Global keyword\n",
    "# Global keyword is used if we want to modify a global variable from within a function. \n",
    "# It indicated that we want to work with the global variable, rather than creating a new local variable with the same name.\n",
    "global_var = 10 # Global variable\n",
    "def modify_global():\n",
    "    global global_var # Use the global keyword to MODIFY the global variable\n",
    "global_var = 20\n",
    "modify_global()\n",
    "print(global_var) # This will print the modified global variable, which is 20"
   ]
  },
  {
   "cell_type": "code",
   "execution_count": 23,
   "metadata": {},
   "outputs": [
    {
     "name": "stdout",
     "output_type": "stream",
     "text": [
      "[1, 2, 3, 4]\n",
      "[1, 2, 3]\n"
     ]
    }
   ],
   "source": [
    "# ass by Object Reference\n",
    "# When passes objects as function arguments. Whether the original object affected, depends on the object's mutability and and the operations performed.\n",
    "def modify_list(my_list):\n",
    "    my_list.append(4) # Modifying the list inside the function\n",
    "my_list = [1, 2, 3]\n",
    "modify_list(my_list)\n",
    "print(my_list) # Output: [1, 2, 3, 4]\n",
    "def reassign_list(my_list):\n",
    "    my_list = [4, 5, 6] # Reassigning the list to a new object\n",
    "my_list = [1, 2, 3]\n",
    "reassign_list(my_list)\n",
    "print(my_list) # Output: [1, 2, 3]"
   ]
  },
  {
   "cell_type": "code",
   "execution_count": 24,
   "metadata": {},
   "outputs": [
    {
     "name": "stdout",
     "output_type": "stream",
     "text": [
      "5\n"
     ]
    }
   ],
   "source": [
    "# Pass by Object Reference\n",
    "# In this example, my_integer is an integer. When you pass it to the modify_integer function and try to modify it by incrementing, it does not affect the original integer\n",
    "# because integers are immutable. Instead, a new integer object is created within the function.\n",
    "def modify_integer(x):\n",
    "    x += 1 # Modifying the integer inside the function\n",
    "my_integer = 5\n",
    "modify_integer(my_integer)\n",
    "print(my_integer) # Output: 5"
   ]
  },
  {
   "cell_type": "code",
   "execution_count": 25,
   "metadata": {},
   "outputs": [
    {
     "name": "stdout",
     "output_type": "stream",
     "text": [
      "100\n"
     ]
    }
   ],
   "source": [
    "# Function Overloading\n",
    "# Python does not support function overloading with different parameter types, as seen in some other programming languages.\n",
    "# Functions with the same name in the same scope will simply overwrite each other. To achieve similar behavior, we can use default arguments or variable-length argument lists\n",
    "# (*args and **kwargs).\n",
    "def product(a, b):\n",
    "    print(a * b)\n",
    "def product(a, b, c):\n",
    "    print(a * b * c)\n",
    "# product(4, 5) # Uncommenting this shows an error\n",
    "product(4, 5, 5) # This line will call the last function\n",
    "# Try using *args to solve that problem"
   ]
  },
  {
   "cell_type": "code",
   "execution_count": 27,
   "metadata": {},
   "outputs": [
    {
     "name": "stdout",
     "output_type": "stream",
     "text": [
      "120\n"
     ]
    }
   ],
   "source": [
    "# Function Recursion\n",
    "# It means that a function calls itself.\n",
    "# Can be used for the problem that\n",
    "# can be divided into smaller, similar\n",
    "# sub-problems or involves recursive\n",
    "# data structures like trees or\n",
    "# graphs.\n",
    "# Be careful with infinite recursion\n",
    "# (use proper termination condition)\n",
    "# and performance effect,e.g.\n",
    "# excessive memory usage.\n",
    "def factorial(n):\n",
    "    if n == 0:\n",
    "        return 1\n",
    "    else:\n",
    "        return n * factorial(n - 1)\n",
    "result = factorial(5)\n",
    "print(result) # Output: 120"
   ]
  },
  {
   "cell_type": "code",
   "execution_count": 28,
   "metadata": {},
   "outputs": [
    {
     "name": "stdout",
     "output_type": "stream",
     "text": [
      "Division operation complete\n",
      "5.0\n",
      "Error: Division by zero\n",
      "Division operation complete\n",
      "None\n",
      "Error: Invalid data types\n",
      "Division operation complete\n",
      "None\n"
     ]
    }
   ],
   "source": [
    "# Error\n",
    "# Handling -\n",
    "# Examples\n",
    "def divide(x, y):\n",
    "    try:\n",
    "        result = x / y\n",
    "    except ZeroDivisionError:\n",
    "        print(\"Error: Division by zero\")\n",
    "        return None\n",
    "    except TypeError:\n",
    "        print(\"Error: Invalid data types\")\n",
    "        return None\n",
    "    except Exception as e:\n",
    "        print(f\"An unexpected error occurred: {e}\")\n",
    "        return None\n",
    "    else:\n",
    "        return result\n",
    "    finally:\n",
    "        print(\"Division operation complete\")\n",
    "# Example usages\n",
    "print(divide(10, 2)) # Output: 5.0\n",
    "print(divide(10, 0)) # Output: Error: Division by zero\\nDivision operation complete\\nNone\n",
    "print(divide(\"10\", 0)) # Output: Error: Invalid data types\\nDivision operation complete\\nNone"
   ]
  },
  {
   "cell_type": "code",
   "execution_count": 29,
   "metadata": {},
   "outputs": [
    {
     "name": "stdout",
     "output_type": "stream",
     "text": [
      "Help on function add in module __main__:\n",
      "\n",
      "add(a, b)\n",
      "        This function adds two numbers together.\n",
      "    Args:\n",
      "        a (int): The first number to be added.\n",
      "        b (int): The second number to be added.\n",
      "    Returns:\n",
      "        int: The sum of the two input numbers.\n",
      "    Example:\n",
      "    >>> add(3, 4)\n",
      "    7\n",
      "\n"
     ]
    }
   ],
   "source": [
    "# Docstrings -\n",
    "# Examples\n",
    "def add(a, b):\n",
    "    \"\"\"\n",
    "    This function adds two numbers together.\n",
    "Args:\n",
    "    a (int): The first number to be added.\n",
    "    b (int): The second number to be added.\n",
    "Returns:\n",
    "    int: The sum of the two input numbers.\n",
    "Example:\n",
    ">>> add(3, 4)\n",
    "7\n",
    "    \"\"\"\n",
    "    return a + b\n",
    "help(add) # Displays the docstring"
   ]
  }
 ],
 "metadata": {
  "kernelspec": {
   "display_name": "Python 3",
   "language": "python",
   "name": "python3"
  },
  "language_info": {
   "codemirror_mode": {
    "name": "ipython",
    "version": 3
   },
   "file_extension": ".py",
   "mimetype": "text/x-python",
   "name": "python",
   "nbconvert_exporter": "python",
   "pygments_lexer": "ipython3",
   "version": "3.11.6"
  },
  "orig_nbformat": 4
 },
 "nbformat": 4,
 "nbformat_minor": 2
}
