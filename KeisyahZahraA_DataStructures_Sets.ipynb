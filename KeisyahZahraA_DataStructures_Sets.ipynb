{
 "cells": [
  {
   "cell_type": "code",
   "execution_count": null,
   "metadata": {},
   "outputs": [],
   "source": [
    "#Keisyah Zahra Anatasya\n",
    "#J0403231052\n",
    "#B1-Teknologi Rekayasa Perangkat Lunak\n",
    "#keisyahzahraa@gmail.com\n",
    "#Sets"
   ]
  },
  {
   "cell_type": "code",
   "execution_count": 1,
   "metadata": {},
   "outputs": [
    {
     "name": "stdout",
     "output_type": "stream",
     "text": [
      "{'Fri', 'Mon', 'Wed', 'Tue', 'Thu', 'Sat', 'Sun'}\n",
      "{'Jan', 'Mar', 'Feb'}\n",
      "{17, 21, 22}\n"
     ]
    }
   ],
   "source": [
    "# Creating a Set\n",
    "\n",
    "# A set is created by using the set() function or placing all the elements within a pair of curly braces.\n",
    "\n",
    "Days=set([\"Mon\",\"Tue\",\"Wed\",\"Thu\",\"Fri\",\"Sat\",\"Sun\"])\n",
    "Months={\"Jan\",\"Feb\",\"Mar\"}\n",
    "Dates={21,22,17}\n",
    "print(Days)\n",
    "print(Months)\n",
    "print(Dates)\n"
   ]
  },
  {
   "cell_type": "code",
   "execution_count": 2,
   "metadata": {},
   "outputs": [
    {
     "name": "stdout",
     "output_type": "stream",
     "text": [
      "Fri\n",
      "Mon\n",
      "Wed\n",
      "Tue\n",
      "Thu\n",
      "Sat\n",
      "Sun\n"
     ]
    }
   ],
   "source": [
    "# Accessing Values in a Set\n",
    "\n",
    "# We cannot access individual values in a set. We can only access all the elements together as shown above. \n",
    "# But we can also get a list of individual elements by looping through the set.\n",
    "\n",
    "Days=set([\"Mon\",\"Tue\",\"Wed\",\"Thu\",\"Fri\",\"Sat\",\"Sun\"])\n",
    " \n",
    "for d in Days:\n",
    "   print(d)\n"
   ]
  },
  {
   "cell_type": "code",
   "execution_count": 3,
   "metadata": {},
   "outputs": [
    {
     "name": "stdout",
     "output_type": "stream",
     "text": [
      "{'Fri', 'Mon', 'Wed', 'Tue', 'Thu', 'Sat', 'Sun'}\n",
      "{'Fri', 'Mon', 'Wed', 'Tue', 'Thu', 'Sat'}\n"
     ]
    }
   ],
   "source": [
    "# Adding & Removing Items to a Set\n",
    "\n",
    "# We can add elements to a set by using add() method. We can remove elements from a set by using discard() method. \n",
    "# There is no specific index attached to the newly added element. \n",
    "\n",
    "Days=set([\"Mon\",\"Tue\",\"Wed\",\"Thu\",\"Fri\",\"Sat\"])\n",
    " \n",
    "Days.add(\"Sun\")\n",
    "print(Days)\n",
    "\n",
    "Days=set([\"Mon\",\"Tue\",\"Wed\",\"Thu\",\"Fri\",\"Sat\"])\n",
    " \n",
    "Days.discard(\"Sun\")\n",
    "print(Days)\n"
   ]
  },
  {
   "cell_type": "code",
   "execution_count": 4,
   "metadata": {},
   "outputs": [
    {
     "name": "stdout",
     "output_type": "stream",
     "text": [
      "{'Fri', 'Mon', 'Wed', 'Tue', 'Thu', 'Sat', 'Sun'}\n",
      "{'Wed'}\n",
      "{'Tue', 'Mon'}\n"
     ]
    }
   ],
   "source": [
    "# Union, Intersection, and Difference of Sets\n",
    "\n",
    "# The union operation on two sets produces a new set containing all the distinct elements from both the sets. \n",
    "# The intersection operation on two sets produces a new set containing only the common elements from both the sets.\n",
    "# The difference operation on two sets produces a new set containing only the elements from the first set and none from the second set.\n",
    "\n",
    "DaysA = set([\"Mon\",\"Tue\",\"Wed\"])\n",
    "DaysB = set([\"Wed\",\"Thu\",\"Fri\",\"Sat\",\"Sun\"])\n",
    "print(DaysA|DaysB)\t\t# equals with print(DaysA.union(DaysB))\n",
    "print(DaysA & DaysB)\t# equals with print(DaysA.intersection(DaysB))\n",
    "print(DaysA - DaysB)\t\t# equals with print(DaysA.difference(DaysB))\n"
   ]
  }
 ],
 "metadata": {
  "kernelspec": {
   "display_name": "Python 3",
   "language": "python",
   "name": "python3"
  },
  "language_info": {
   "codemirror_mode": {
    "name": "ipython",
    "version": 3
   },
   "file_extension": ".py",
   "mimetype": "text/x-python",
   "name": "python",
   "nbconvert_exporter": "python",
   "pygments_lexer": "ipython3",
   "version": "3.11.6"
  },
  "orig_nbformat": 4
 },
 "nbformat": 4,
 "nbformat_minor": 2
}
