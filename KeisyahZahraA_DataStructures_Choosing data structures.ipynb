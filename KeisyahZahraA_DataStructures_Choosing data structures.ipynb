{
 "cells": [
  {
   "cell_type": "code",
   "execution_count": null,
   "metadata": {},
   "outputs": [],
   "source": [
    "#Keisyah Zahra Anatasya\n",
    "#J0403231052\n",
    "#B1-Teknologi Rekayasa Perangkat Lunak\n",
    "#keisyahzahraa@gmail.com\n",
    "#Choosing data structures\n"
   ]
  },
  {
   "cell_type": "code",
   "execution_count": 1,
   "metadata": {},
   "outputs": [
    {
     "name": "stdout",
     "output_type": "stream",
     "text": [
      "{'id': 12458, 'name': 'Paul', 'department': 'House Floor'}\n"
     ]
    }
   ],
   "source": [
    "# Using List of Tuples\n",
    "\n",
    "# In this code, employee_list is a list of tuples. The code runs well and will return the user Paul, as its ID, 12458, is matched. \n",
    "# The challenge comes when the list gets bigger.  It lacks in performance in comparison to other data structures, such as the dictionary.\n",
    "\n",
    "employee_list = [(12345, \"John\", \"Kitchen\"), (12458, \"Paul\", \"House Floor\")]\n",
    "\n",
    "def get_employee(id):\n",
    "    for employee in employee_list:\n",
    "        if employee[0] == id:\n",
    "            return {\"id\": employee[0], \"name\": employee[1], \"department\": employee[2]}\n",
    "\n",
    "print(get_employee(12458))\n"
   ]
  },
  {
   "cell_type": "code",
   "execution_count": 2,
   "metadata": {},
   "outputs": [
    {
     "name": "stdout",
     "output_type": "stream",
     "text": [
      "{'id': '12458', 'name': 'Paul', 'department': 'House Floor'}\n"
     ]
    }
   ],
   "source": [
    "# Using Dictionary\n",
    "\n",
    "# In this code block, we change to use a dictionary. The main difference is that you no longer need to iterate over the list to locate them. \n",
    "# If the list expands to a much larger size, the seek time to find the employee stays the same.\n",
    "\n",
    "employee_dict = {\n",
    "    12345: {\n",
    "        \"id\": \"12345\",\n",
    "        \"name\": \"John\", \n",
    "        \"department\": \"Kitchen\"    \n",
    "    },\n",
    "    12458: {\n",
    "        \"id\": \"12458\",\n",
    "        \"name\": \"Paul\", \n",
    "        \"department\": \"House Floor\"    \n",
    "    }\n",
    "}\n",
    "\n",
    "def get_employee_from_dict(id):\n",
    "    return employee_dict[id]\n",
    "\n",
    "\n",
    "print(get_employee_from_dict(12458))\n"
   ]
  }
 ],
 "metadata": {
  "kernelspec": {
   "display_name": "Python 3",
   "language": "python",
   "name": "python3"
  },
  "language_info": {
   "codemirror_mode": {
    "name": "ipython",
    "version": 3
   },
   "file_extension": ".py",
   "mimetype": "text/x-python",
   "name": "python",
   "nbconvert_exporter": "python",
   "pygments_lexer": "ipython3",
   "version": "3.11.6"
  },
  "orig_nbformat": 4
 },
 "nbformat": 4,
 "nbformat_minor": 2
}
