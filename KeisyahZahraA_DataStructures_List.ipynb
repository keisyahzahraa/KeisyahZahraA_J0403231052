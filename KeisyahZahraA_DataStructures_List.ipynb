{
 "cells": [
  {
   "cell_type": "code",
   "execution_count": null,
   "metadata": {},
   "outputs": [],
   "source": [
    "#Keisyah Zahra Anatasya\n",
    "#J0403231052\n",
    "#B1-Teknologi Rekayasa Perangkat Lunak\n",
    "#keisyahzahraa@gmail.com\n",
    "#List "
   ]
  },
  {
   "cell_type": "code",
   "execution_count": 3,
   "metadata": {},
   "outputs": [
    {
     "name": "stdout",
     "output_type": "stream",
     "text": [
      "[1, 2, 3, 4, 3, 5, 6]\n",
      "[1, 2, 3, 4, 3, 5, 6, 7, 8, 9]\n",
      "[1, 2, 10, 3, 4, 3, 5, 6, 7, 8, 9]\n",
      "[1, 2, 10, 4, 3, 5, 6, 7, 8, 9]\n",
      "[1, 2, 4, 3, 5, 6, 7, 8, 9]\n",
      "[]\n",
      "Index of 3: 2\n",
      "Count of 3: 2\n",
      "[1, 2, 3, 3, 4, 5]\n",
      "[5, 4, 3, 3, 2, 1]\n",
      "[5, 4, 3, 3, 2, 1]\n",
      "Length of the list: 6\n"
     ]
    }
   ],
   "source": [
    "#Examples of using Built-in Methods\n",
    "\n",
    "my_list = [1, 2, 3, 4, 3, 5]\n",
    "\n",
    "# append(x) - Adds an element to the end of the list\n",
    "my_list.append(6)\n",
    "print(my_list) \n",
    "\n",
    "# extend(iterable) - Extends the list with elements from another iterable\n",
    "my_list.extend([7,8,9])\n",
    "print(my_list)\n",
    "\n",
    "# insert(i, x) - Inserts an element at a specified index\n",
    "my_list.insert(2,10)\n",
    "print(my_list)\n",
    "\n",
    "# remove(x) - Removes the first occurrence of an element\n",
    "my_list.remove(3)\n",
    "print(my_list)\n",
    "\n",
    "\n",
    "# pop([i]) - Removes and returns an element (default: last element)\n",
    "popped_element = my_list.pop(2)\n",
    "print(my_list)\n",
    "\n",
    "# clear() - Removes all elements from the list\n",
    "my_list.clear()\n",
    "print(my_list)\n",
    "\n",
    "# index(x[, start[, end]]) - Returns the index of the first occurrence of an element\n",
    "my_list = [1, 2, 3, 4, 3, 5]\n",
    "index = my_list.index(3)\n",
    "print(f\"Index of 3: {index}\") \n",
    "\n",
    "\n",
    "# count(x) - Returns the number of occurrences of an element\n",
    "count = my_list.count(3)\n",
    "print(f\"Count of 3: {count}\")  \n",
    "\n",
    "# sort(key=None, reverse=False) - Sorts the list in ascending order\n",
    "my_list.sort()\n",
    "print(my_list)  \n",
    "\n",
    "# reverse() - Reverses the order of elements\n",
    "my_list.reverse()\n",
    "print(my_list) \n",
    "\n",
    "# copy() - Creates a shallow copy of the list\n",
    "copy_of_list = my_list.copy()\n",
    "print(copy_of_list)  \n",
    "\n",
    "# len(list) - Returns the number of elements in the list\n",
    "length = len(my_list)\n",
    "print(f\"Length of the list: {length}\")\n",
    "\n"
   ]
  },
  {
   "cell_type": "code",
   "execution_count": 4,
   "metadata": {},
   "outputs": [
    {
     "name": "stdout",
     "output_type": "stream",
     "text": [
      "The type of [] is: <class 'list'>\n",
      "The type of [1, 2.4, 'abc', (1, 2), [6, 78, 9]] is: <class 'list'>\n"
     ]
    }
   ],
   "source": [
    "\n",
    "#Creating Python lists\n",
    "#Elements in a list are enclosed with square brackets (‘[ ]’) with each separated by comma.\n",
    "# It can contain any type of value including lists. An example of creating a list is shown below\n",
    "\n",
    "\n",
    "list1=[] \n",
    "list2=[1,2.4,'abc',(1,2),[6,78,9]] # creating a list of different values\n",
    "print(\"The type of\",list1,\"is:\",type(list1))\n",
    "print(\"The type of\",list2,\"is:\",type(list2))\n"
   ]
  },
  {
   "cell_type": "code",
   "execution_count": 10,
   "metadata": {},
   "outputs": [
    {
     "name": "stdout",
     "output_type": "stream",
     "text": [
      "0.4\n",
      "[1, 3, 5.6, 'a', 'PythonGeeks', 0.4]\n",
      "1\n"
     ]
    }
   ],
   "source": [
    "#Accessing an element from the Python list\n",
    "#We can access the elements of the list using indexing. In Python, the indexing of lists starts from 0. \n",
    "# So, to access the first element you have to specify the index as ‘0’. \n",
    "# We can also access using negative indexes, where the right most value is of index ‘-1’ and it keeps reducing on moving to the left.\n",
    "\n",
    "\n",
    "list_1=[1,3,5.6,'a',\"PythonGeeks\",0.4]\n",
    "print(list_1[5]) # accessing the 4th element\n",
    "print(list_1) # accessing the whole list\n",
    "print(list_1[-6]) # printing the last 2nd element\n",
    "\n"
   ]
  },
  {
   "cell_type": "code",
   "execution_count": 14,
   "metadata": {},
   "outputs": [
    {
     "name": "stdout",
     "output_type": "stream",
     "text": [
      "list_1[2:5] = [5.6, 'a', 'PythonGeeks']\n",
      "list_1[:] = [1, 3, 5.6, 'a', 'PythonGeeks', 0.4]\n",
      "list_1[-5:-2] = [3, 5.6, 'a']\n",
      "list_1[3:] = ['a', 'PythonGeeks', 0.4]\n",
      "list_1[-3:] = ['a', 'PythonGeeks', 0.4]\n",
      "list_1[:2] = 5.6\n",
      "list_1[:-2] = [1, 3, 5.6, 'a']\n"
     ]
    }
   ],
   "source": [
    "#Slicing the list in Python\n",
    "#We can get more than one element from a list by slicing. We use the indexing of ‘i:j’ to get the elements \n",
    "# from ith index to jth index (jth exclusive). Also, We can give negative indexing. For example,\n",
    "\n",
    "list_1=[1,3,5.6,'a',\"PythonGeeks\",0.4]\n",
    "print(\"list_1[2:5] =\",list_1[2:5]) # slicing 3rd to 5th element\n",
    "print(\"list_1[:] =\",list_1[:]) # getting entire list\n",
    "print(\"list_1[-5:-2] =\",list_1[-5:-2]) # slicing last 5th to 3rd element\n",
    "print(\"list_1[3:] =\",list_1[3:]) # slicing all elements after 3rd one\n",
    "print(\"list_1[-3:] =\",list_1[-3:]) # slicing all elements after last 3rd one\n",
    "print(\"list_1[:2] =\",list_1[:2]) # slicing all elements till 2nd one\n",
    "print(\"list_1[:-2] =\",list_1[:-2])# slicing all elements till last 2nd one\n",
    "\n"
   ]
  },
  {
   "cell_type": "code",
   "execution_count": 15,
   "metadata": {},
   "outputs": [
    {
     "name": "stdout",
     "output_type": "stream",
     "text": [
      "After modifying using indexing: [1, 2, 10, 4, 5]\n",
      "After modifying using slicing: [1, 20, 30, 40, 5]\n",
      "After deleting using indexing: [1, 20, 40, 5]\n",
      "After deleting using slicing: [1]\n"
     ]
    }
   ],
   "source": [
    "#Modifying and deleting from Python List\n",
    "\n",
    "# Create a list\n",
    "my_list = [1, 2, 3, 4, 5]\n",
    "\n",
    "# Modify an element using indexing\n",
    "my_list[2] = 10\n",
    "print(\"After modifying using indexing:\", my_list)  \n",
    "\n",
    "# Modify a range of elements using slicing\n",
    "my_list[1:4] = [20, 30, 40]\n",
    "print(\"After modifying using slicing:\", my_list)  \n",
    "\n",
    "# Delete an element using indexing\n",
    "del my_list[2]\n",
    "print(\"After deleting using indexing:\", my_list) \n",
    "# Delete a range of elements using slicing\n",
    "\n",
    "my_list[1:4] = []\n",
    "print(\"After deleting using slicing:\", my_list)  \n",
    "\n",
    "# Delete the entire list\n",
    "del my_list\n",
    "\n",
    "# Now, my_list is no longer defined\n"
   ]
  },
  {
   "cell_type": "code",
   "execution_count": 16,
   "metadata": {},
   "outputs": [
    {
     "name": "stdout",
     "output_type": "stream",
     "text": [
      "1\n",
      "2\n",
      "3\n",
      "4\n",
      "5\n",
      "Index 0: 1\n",
      "Index 1: 2\n",
      "Index 2: 3\n",
      "Index 3: 4\n",
      "Index 4: 5\n",
      "5\n",
      "4\n",
      "3\n",
      "2\n",
      "1\n"
     ]
    }
   ],
   "source": [
    "#Common Ways to Loop Through a List\n",
    "\n",
    "# Create a sample list\n",
    "my_list = [1, 2, 3, 4, 5]\n",
    "\n",
    "# Method 1: Loop through the list and print each element\n",
    "for item in my_list:\n",
    "    print(item)\n",
    "\n",
    "# Method 2: Loop through the list with index using enumerate()\n",
    "for index, item in enumerate(my_list):\n",
    "    print(f\"Index {index}: {item}\")\n",
    "\n",
    "# Method 3: Loop through the list in reverse order\n",
    "for item in reversed(my_list):\n",
    "    print(item)\n",
    "\n",
    "\n"
   ]
  },
  {
   "cell_type": "code",
   "execution_count": 18,
   "metadata": {},
   "outputs": [
    {
     "name": "stdout",
     "output_type": "stream",
     "text": [
      "[1, 4, 9, 16, 25]\n",
      "['apple', 'orange', 'cherry', 'kiwi', 'mango']\n",
      "Python\n",
      "5\n",
      "Developer\n"
     ]
    }
   ],
   "source": [
    "#List Comprehension in Python\n",
    "#List comprehension is a way to create a list in a simple, and efficient way. The syntax of list comprehension is:\n",
    "# [expression(x) for x in list]\n",
    "# For example:\n",
    "\n",
    "# Sample 1:\n",
    "list1=[1,-2,3,-4,5]\n",
    "list2=[x**2 for x in list1]\n",
    "print(list2)\n",
    "\n",
    "# Sample 2 (with condition):\n",
    "fruits = [\"apple\", \"banana\", \"cherry\", \"kiwi\", \"mango\"]\n",
    "newlist = [x if x != \"banana\" else \"orange\" for x in fruits]\n",
    "print(newlist)\n",
    "\n",
    "\n",
    "# We can unpack the values from a list into individual variables by assigning the list to multiple variables.\n",
    "emp_info=['Python',5,'Developer']\n",
    "\n",
    "#List unpacking\n",
    "skill,exp,role=emp_info\n",
    "print (skill)\t#Output:Python\n",
    "print (exp)\t#Output:5\n",
    "print (role)\t#Output:Developer\n",
    "\n",
    "\n"
   ]
  },
  {
   "cell_type": "code",
   "execution_count": 19,
   "metadata": {},
   "outputs": [
    {
     "name": "stdout",
     "output_type": "stream",
     "text": [
      "User clicked the back button. Navigating to: Contact Us\n",
      "User clicked the back button. Navigating to: Blog\n"
     ]
    }
   ],
   "source": [
    "# Using Lists as Stacks - Example\n",
    "\n",
    "# Initialize an empty stack to represent the browser history\n",
    "browser_history = []\n",
    "\n",
    "# Simulate user browsing by pushing visited pages onto the stack\n",
    "browser_history.append(\"Homepage\")\n",
    "browser_history.append(\"About Us\")\n",
    "browser_history.append(\"Products\")\n",
    "browser_history.append(\"Contact Us\")\n",
    "\n",
    "# User clicks the back button\n",
    "if len(browser_history) > 0:\n",
    "    current_page = browser_history.pop()\n",
    "    print(\"User clicked the back button. Navigating to:\", current_page)\n",
    "\n",
    "# User continues browsing and adds more pages to the history\n",
    "browser_history.append(\"FAQs\")\n",
    "browser_history.append(\"Blog\")\n",
    "\n",
    "# User clicks the back button again\n",
    "if len(browser_history) > 0:\n",
    "    current_page = browser_history.pop()\n",
    "    print(\"User clicked the back button. Navigating to:\", current_page)\n",
    "\n",
    "# At this point, the browser history would contain [\"Homepage\", \"About Us\", \"Products\", \"Contact Us\", \"FAQs\"].\n",
    "\n"
   ]
  },
  {
   "cell_type": "code",
   "execution_count": 20,
   "metadata": {},
   "outputs": [
    {
     "name": "stdout",
     "output_type": "stream",
     "text": [
      "\n",
      "Queue before:\n",
      "['Person 1', 'Person 2', 'Person 3']\n",
      "\n",
      "Elements dequeued from queue :  Person 1\n",
      "\n",
      "Queue after:\n",
      "['Person 2', 'Person 3']\n"
     ]
    }
   ],
   "source": [
    "# Using Lists as Queue - Example\n",
    "queue = ['Person 1','Person 2'] \n",
    "  \n",
    "# Adding elements to the queue \n",
    "queue.append('Person 3') \n",
    "  \n",
    "print(\"\\nQueue before:\") \n",
    "print(queue) \n",
    "  \n",
    "# Removing elements from the queue \n",
    "print(\"\\nElements dequeued from queue : \", queue.pop(0)) \n",
    "  \n",
    "print(\"\\nQueue after:\") \n",
    "print(queue)\n"
   ]
  },
  {
   "cell_type": "code",
   "execution_count": null,
   "metadata": {},
   "outputs": [],
   "source": []
  }
 ],
 "metadata": {
  "kernelspec": {
   "display_name": "Python 3",
   "language": "python",
   "name": "python3"
  },
  "language_info": {
   "codemirror_mode": {
    "name": "ipython",
    "version": 3
   },
   "file_extension": ".py",
   "mimetype": "text/x-python",
   "name": "python",
   "nbconvert_exporter": "python",
   "pygments_lexer": "ipython3",
   "version": "3.11.6"
  },
  "orig_nbformat": 4
 },
 "nbformat": 4,
 "nbformat_minor": 2
}
